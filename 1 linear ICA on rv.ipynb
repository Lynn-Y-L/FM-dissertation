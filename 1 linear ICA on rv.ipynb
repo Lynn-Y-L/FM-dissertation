{
 "cells": [
  {
   "cell_type": "markdown",
   "id": "913d4ed4",
   "metadata": {},
   "source": [
    "## Linear ICA on Random Variables\n",
    "1. simulate source random variables si\n",
    "2. mixed rv linearly xi\n",
    "3. perform ICA on xi to get si\n",
    "4. evaluate the results\n",
    "5. try different rv"
   ]
  },
  {
   "cell_type": "markdown",
   "id": "474763c6",
   "metadata": {},
   "source": [
    "### simulate sources rv"
   ]
  },
  {
   "cell_type": "code",
   "execution_count": 1,
   "id": "3a5fdb58",
   "metadata": {
    "ExecuteTime": {
     "end_time": "2023-09-11T08:50:55.930960Z",
     "start_time": "2023-09-11T08:50:55.021941Z"
    }
   },
   "outputs": [],
   "source": [
    "import numpy as np\n",
    "np.random.seed(0)\n",
    "s1=np.random.uniform(0,10,1000)\n",
    "s2=np.random.poisson(5, 1000)\n",
    "s3=np.random.exponential(2,1000)\n",
    "s=np.c_[s1,s2,s3]"
   ]
  },
  {
   "cell_type": "markdown",
   "id": "d1e2ac2e",
   "metadata": {},
   "source": [
    "### mixed sources linearly"
   ]
  },
  {
   "cell_type": "code",
   "execution_count": 2,
   "id": "a860eb03",
   "metadata": {
    "ExecuteTime": {
     "end_time": "2023-09-11T08:50:55.965335Z",
     "start_time": "2023-09-11T08:50:55.960056Z"
    }
   },
   "outputs": [],
   "source": [
    "#mixing matrix\n",
    "A = np.array([[1,1,1],[1,4,2],[1,1,2]]) #linear transform\n",
    "x = np.dot(s, A.T) # observing data"
   ]
  },
  {
   "cell_type": "markdown",
   "id": "10abeaa6",
   "metadata": {},
   "source": [
    "### Perform ICA on xi to get source"
   ]
  },
  {
   "cell_type": "code",
   "execution_count": 3,
   "id": "2aed73dd",
   "metadata": {
    "ExecuteTime": {
     "end_time": "2023-09-11T08:51:00.582313Z",
     "start_time": "2023-09-11T08:50:57.320413Z"
    }
   },
   "outputs": [
    {
     "data": {
      "text/plain": [
       "array([[-89.62871069,  75.51061397,  58.14045967],\n",
       "       [-80.69458686, 284.72531633, 123.50034981],\n",
       "       [-91.2591902 ,  77.87758977, 123.41566692]])"
      ]
     },
     "execution_count": 3,
     "metadata": {},
     "output_type": "execute_result"
    }
   ],
   "source": [
    "from sklearn.decomposition import FastICA\n",
    "np.random.seed(0)\n",
    "ica=FastICA(n_components=3, max_iter=500)\n",
    "s_=ica.fit_transform(x)\n",
    "A_=ica.mixing_\n",
    "A_"
   ]
  },
  {
   "cell_type": "markdown",
   "id": "dd495b28",
   "metadata": {},
   "source": [
    "### evaluate the result"
   ]
  },
  {
   "cell_type": "code",
   "execution_count": 4,
   "id": "358f7b25",
   "metadata": {
    "ExecuteTime": {
     "end_time": "2023-09-11T08:51:01.656025Z",
     "start_time": "2023-09-11T08:51:00.584642Z"
    }
   },
   "outputs": [
    {
     "data": {
      "text/plain": [
       "(array([ 4.7554    ,  9.26483103,  8.0349862 ,  9.01886206,  8.85488275,\n",
       "         9.83875861,  9.26483103,  9.42881034, 10.49467585,  3.03361724]),\n",
       " array([-0.06117431, -0.04897765, -0.03678099, -0.02458433, -0.01238767,\n",
       "        -0.000191  ,  0.01200566,  0.02420232,  0.03639898,  0.04859564,\n",
       "         0.0607923 ]),\n",
       " <BarContainer object of 10 artists>)"
      ]
     },
     "execution_count": 4,
     "metadata": {},
     "output_type": "execute_result"
    },
    {
     "data": {
      "image/png": "[encoded data removed]",
      "text/plain": [
       "<Figure size 432x288 with 1 Axes>"
      ]
     },
     "metadata": {
      "needs_background": "light"
     },
     "output_type": "display_data"
    }
   ],
   "source": [
    "import matplotlib.pyplot as plt\n",
    "%matplotlib inline\n",
    "plt.hist(s_[:,0], density=True)"
   ]
  },
  {
   "cell_type": "code",
   "execution_count": 5,
   "id": "0e1c6156",
   "metadata": {
    "ExecuteTime": {
     "end_time": "2023-09-11T08:51:01.752096Z",
     "start_time": "2023-09-11T08:51:01.657495Z"
    }
   },
   "outputs": [
    {
     "data": {
      "text/plain": [
       "(array([ 1.81749039,  3.92970895, 14.58904448, 10.315486  ,  8.00678199,\n",
       "         7.12259747,  1.96485448,  1.12979132,  0.14736409,  0.09824272]),\n",
       " array([-0.07356452, -0.05320678, -0.03284904, -0.01249129,  0.00786645,\n",
       "         0.02822419,  0.04858193,  0.06893967,  0.08929741,  0.10965516,\n",
       "         0.1300129 ]),\n",
       " <BarContainer object of 10 artists>)"
      ]
     },
     "execution_count": 5,
     "metadata": {},
     "output_type": "execute_result"
    },
    {
     "data": {
      "image/png": "[encoded data removed]",
      "text/plain": [
       "<Figure size 432x288 with 1 Axes>"
      ]
     },
     "metadata": {
      "needs_background": "light"
     },
     "output_type": "display_data"
    }
   ],
   "source": [
    "plt.hist(s_[:,1], density=True)"
   ]
  },
  {
   "cell_type": "code",
   "execution_count": 6,
   "id": "093aab51",
   "metadata": {
    "ExecuteTime": {
     "end_time": "2023-09-11T08:51:01.835896Z",
     "start_time": "2023-09-11T08:51:01.754232Z"
    }
   },
   "outputs": [
    {
     "data": {
      "text/plain": [
       "(array([21.34225445, 10.07386264,  4.45957556,  2.18997014,  0.91580569,\n",
       "         0.51762931,  0.11945292,  0.11945292,  0.03981764,  0.03981764]),\n",
       " array([-0.03310315, -0.00798866,  0.01712584,  0.04224034,  0.06735484,\n",
       "         0.09246933,  0.11758383,  0.14269833,  0.16781283,  0.19292732,\n",
       "         0.21804182]),\n",
       " <BarContainer object of 10 artists>)"
      ]
     },
     "execution_count": 6,
     "metadata": {},
     "output_type": "execute_result"
    },
    {
     "data": {
      "image/png": "[encoded data removed]",
      "text/plain": [
       "<Figure size 432x288 with 1 Axes>"
      ]
     },
     "metadata": {
      "needs_background": "light"
     },
     "output_type": "display_data"
    }
   ],
   "source": [
    "plt.hist(s_[:,2], density=True)"
   ]
  },
  {
   "cell_type": "code",
   "execution_count": 7,
   "id": "937a43c9",
   "metadata": {
    "ExecuteTime": {
     "end_time": "2023-09-11T08:51:02.089147Z",
     "start_time": "2023-09-11T08:51:01.837203Z"
    }
   },
   "outputs": [
    {
     "data": {
      "text/plain": [
       "Text(0.5, 1.0, 'estimate component 3')"
      ]
     },
     "execution_count": 7,
     "metadata": {},
     "output_type": "execute_result"
    },
    {
     "data": {
      "image/png": "[encoded data removed]",
      "text/plain": [
       "<Figure size 864x288 with 3 Axes>"
      ]
     },
     "metadata": {
      "needs_background": "light"
     },
     "output_type": "display_data"
    }
   ],
   "source": [
    "fig, (ax1, ax2, ax3) = plt.subplots(1, 3, figsize=(12, 4))\n",
    "\n",
    "# Plot data on each subplot\n",
    "ax1.hist(s_[:,0], density=True)\n",
    "ax1.set_title('estimate component 1')\n",
    "\n",
    "ax2.hist(s_[:,1], density=True)\n",
    "ax2.set_title('estimate component 2')\n",
    "\n",
    "ax3.hist(s_[:,2], density=True)\n",
    "ax3.set_title('estimate component 3')"
   ]
  },
  {
   "cell_type": "markdown",
   "id": "1f730158",
   "metadata": {},
   "source": [
    "### 1.5 try different random variables"
   ]
  },
  {
   "cell_type": "markdown",
   "id": "4e5e8298",
   "metadata": {},
   "source": [
    "#### 1.5.1 larger sample size"
   ]
  },
  {
   "cell_type": "code",
   "execution_count": 8,
   "id": "3b7e1be2",
   "metadata": {
    "ExecuteTime": {
     "end_time": "2023-09-11T08:51:54.910640Z",
     "start_time": "2023-09-11T08:51:54.794339Z"
    }
   },
   "outputs": [
    {
     "data": {
      "text/plain": [
       "(array([28.21689368, 27.98655169, 29.08067614, 28.13051544, 28.82154141,\n",
       "        30.0020441 , 28.07292994, 28.96550515, 30.17480059, 28.47602842]),\n",
       " array([-0.01747777, -0.01400468, -0.01053158, -0.00705848, -0.00358539,\n",
       "        -0.00011229,  0.00336081,  0.00683391,  0.010307  ,  0.0137801 ,\n",
       "         0.0172532 ]),\n",
       " <BarContainer object of 10 artists>)"
      ]
     },
     "execution_count": 8,
     "metadata": {},
     "output_type": "execute_result"
    },
    {
     "data": {
      "image/png": "[encoded data removed]",
      "text/plain": [
       "<Figure size 432x288 with 1 Axes>"
      ]
     },
     "metadata": {
      "needs_background": "light"
     },
     "output_type": "display_data"
    }
   ],
   "source": [
    "np.random.seed(0)\n",
    "s1=np.random.uniform(0,10,10000)\n",
    "s2=np.random.poisson(5, 10000)\n",
    "s3=np.random.exponential(2,10000)\n",
    "s=np.c_[s1,s2,s3]\n",
    "#mixing matrix\n",
    "A = np.array([[1,1,1],[1,4,2],[1,1,2]]) #linear transform\n",
    "x = np.dot(s, A.T) # observing data\n",
    "np.random.seed(0)\n",
    "ica=FastICA(n_components=3, max_iter=500)\n",
    "s_=ica.fit_transform(x)\n",
    "plt.hist(s_[:,0], density=True)"
   ]
  },
  {
   "cell_type": "code",
   "execution_count": 9,
   "id": "be90695d",
   "metadata": {
    "ExecuteTime": {
     "end_time": "2023-09-11T08:51:55.344213Z",
     "start_time": "2023-09-11T08:51:55.232874Z"
    }
   },
   "outputs": [
    {
     "data": {
      "text/plain": [
       "(array([1.30837360e-02, 5.23349441e-02, 6.54186801e-01, 1.15136877e+00,\n",
       "        7.24838976e+00, 2.20460952e+01, 2.43619165e+01, 4.06511678e+01,\n",
       "        2.94514898e+01, 5.20732694e+00]),\n",
       " array([-0.05362188, -0.0459788 , -0.03833573, -0.03069265, -0.02304957,\n",
       "        -0.0154065 , -0.00776342, -0.00012034,  0.00752273,  0.01516581,\n",
       "         0.02280889]),\n",
       " <BarContainer object of 10 artists>)"
      ]
     },
     "execution_count": 9,
     "metadata": {},
     "output_type": "execute_result"
    },
    {
     "data": {
      "image/png": "[encoded data removed]",
      "text/plain": [
       "<Figure size 432x288 with 1 Axes>"
      ]
     },
     "metadata": {
      "needs_background": "light"
     },
     "output_type": "display_data"
    }
   ],
   "source": [
    "plt.hist(s_[:,1], density=True)"
   ]
  },
  {
   "cell_type": "code",
   "execution_count": 10,
   "id": "229289a0",
   "metadata": {
    "ExecuteTime": {
     "end_time": "2023-09-11T08:51:55.799531Z",
     "start_time": "2023-09-11T08:51:55.700420Z"
    }
   },
   "outputs": [
    {
     "data": {
      "text/plain": [
       "(array([3.05032188e-02, 3.05032188e-02, 1.01677396e-01, 1.42348355e-01,\n",
       "        4.67716022e-01, 1.31163841e+00, 3.08082510e+00, 8.70358511e+00,\n",
       "        2.41178784e+01, 6.36907209e+01]),\n",
       " array([-0.08834259, -0.07850757, -0.06867254, -0.05883751, -0.04900248,\n",
       "        -0.03916746, -0.02933243, -0.0194974 , -0.00966237,  0.00017265,\n",
       "         0.01000768]),\n",
       " <BarContainer object of 10 artists>)"
      ]
     },
     "execution_count": 10,
     "metadata": {},
     "output_type": "execute_result"
    },
    {
     "data": {
      "image/png": "[encoded data removed]",
      "text/plain": [
       "<Figure size 432x288 with 1 Axes>"
      ]
     },
     "metadata": {
      "needs_background": "light"
     },
     "output_type": "display_data"
    }
   ],
   "source": [
    "plt.hist(s_[:,2], density=True)"
   ]
  },
  {
   "cell_type": "code",
   "execution_count": 25,
   "id": "8e3224ba",
   "metadata": {
    "ExecuteTime": {
     "end_time": "2023-09-11T12:05:31.991428Z",
     "start_time": "2023-09-11T12:05:31.761876Z"
    }
   },
   "outputs": [
    {
     "data": {
      "text/plain": [
       "Text(0.5, 1.0, 'estimate component 3')"
      ]
     },
     "execution_count": 25,
     "metadata": {},
     "output_type": "execute_result"
    },
    {
     "data": {
      "image/png": "[encoded data removed]",
      "text/plain": [
       "<Figure size 864x288 with 3 Axes>"
      ]
     },
     "metadata": {
      "needs_background": "light"
     },
     "output_type": "display_data"
    }
   ],
   "source": [
    "fig, (ax1, ax2, ax3) = plt.subplots(1, 3, figsize=(12, 4))\n",
    "\n",
    "# Plot data on each subplot\n",
    "ax1.hist(s_[:,0], density=True)\n",
    "ax1.set_title('estimate component 1')\n",
    "\n",
    "ax2.hist(s_[:,1], density=True)\n",
    "ax2.set_title('estimate component 2')\n",
    "\n",
    "ax3.hist(s_[:,2], density=True)\n",
    "ax3.set_title('estimate component 3')"
   ]
  },
  {
   "cell_type": "markdown",
   "id": "8f3837d1",
   "metadata": {},
   "source": [
    "#### 1.5.2 more random variables"
   ]
  },
  {
   "cell_type": "code",
   "execution_count": 35,
   "id": "45c85e39",
   "metadata": {
    "ExecuteTime": {
     "end_time": "2023-09-11T12:12:56.701491Z",
     "start_time": "2023-09-11T12:12:56.590168Z"
    }
   },
   "outputs": [
    {
     "data": {
      "text/plain": [
       "(array([1.91909845e-02, 3.83819690e-02, 4.79774613e-02, 1.24741399e-01,\n",
       "        3.26246737e-01, 9.01976273e-01, 2.81147923e+00, 8.20414588e+00,\n",
       "        2.29716085e+01, 6.05091742e+01]),\n",
       " array([-9.37625029e-02, -8.33409427e-02, -7.29193826e-02, -6.24978224e-02,\n",
       "        -5.20762622e-02, -4.16547020e-02, -3.12331419e-02, -2.08115817e-02,\n",
       "        -1.03900215e-02,  3.15386462e-05,  1.04530988e-02]),\n",
       " <BarContainer object of 10 artists>)"
      ]
     },
     "execution_count": 35,
     "metadata": {},
     "output_type": "execute_result"
    },
    {
     "data": {
      "image/png": "[encoded data removed]",
      "text/plain": [
       "<Figure size 432x288 with 1 Axes>"
      ]
     },
     "metadata": {
      "needs_background": "light"
     },
     "output_type": "display_data"
    }
   ],
   "source": [
    "np.random.seed(0)\n",
    "s1=np.random.uniform(0,10,10000)\n",
    "s2=np.random.normal(0,15,10000)\n",
    "s3=np.random.exponential(2,10000)\n",
    "s4=np.random.uniform(0,1,10000)\n",
    "s5=np.random.exponential(22, 10000)\n",
    "s6=np.random.uniform(6, 7, 10000)\n",
    "s=np.c_[s1,s2,s3,s4,s5,s6]\n",
    "#mixing matrix\n",
    "A = np.array([[1,1,1,1,1,1],[1,4,2,1,9,1],[1,1,2,1,1,1],[1,5,1,0,1,1],[11,9,1,13,0,1],[5,2,1,2,3,9]]) #linear transform\n",
    "x = np.dot(s, A.T) # observing data\n",
    "np.random.seed(0)\n",
    "ica=FastICA(n_components=4, max_iter=1000)\n",
    "s_=ica.fit_transform(x)\n",
    "plt.hist(s_[:,0], density=True)"
   ]
  },
  {
   "cell_type": "code",
   "execution_count": 36,
   "id": "2eb742cc",
   "metadata": {
    "ExecuteTime": {
     "end_time": "2023-09-11T12:12:57.320026Z",
     "start_time": "2023-09-11T12:12:57.219826Z"
    }
   },
   "outputs": [
    {
     "data": {
      "text/plain": [
       "(array([ 0.30113825,  2.13534394,  8.43187096, 23.40665477, 36.45141617,\n",
       "        36.97156405, 20.12151024,  7.30944658,  1.60150796,  0.15056912]),\n",
       " array([-0.03598218, -0.02867657, -0.02137096, -0.01406534, -0.00675973,\n",
       "         0.00054589,  0.0078515 ,  0.01515712,  0.02246273,  0.02976835,\n",
       "         0.03707396]),\n",
       " <BarContainer object of 10 artists>)"
      ]
     },
     "execution_count": 36,
     "metadata": {},
     "output_type": "execute_result"
    },
    {
     "data": {
      "image/png": "[encoded data removed]",
      "text/plain": [
       "<Figure size 432x288 with 1 Axes>"
      ]
     },
     "metadata": {
      "needs_background": "light"
     },
     "output_type": "display_data"
    }
   ],
   "source": [
    "plt.hist(s_[:,1], density=True)"
   ]
  },
  {
   "cell_type": "code",
   "execution_count": 37,
   "id": "d747d79f",
   "metadata": {
    "ExecuteTime": {
     "end_time": "2023-09-11T12:12:58.056040Z",
     "start_time": "2023-09-11T12:12:57.968799Z"
    }
   },
   "outputs": [
    {
     "data": {
      "text/plain": [
       "(array([3.15923239e-02, 1.05307746e-01, 5.26538731e-02, 2.21146267e-01,\n",
       "        6.95031125e-01, 2.16933957e+00, 4.77044090e+00, 1.33635530e+01,\n",
       "        3.52991565e+01, 4.85995249e+01]),\n",
       " array([-0.08189245, -0.07239647, -0.0629005 , -0.05340452, -0.04390854,\n",
       "        -0.03441256, -0.02491659, -0.01542061, -0.00592463,  0.00357135,\n",
       "         0.01306732]),\n",
       " <BarContainer object of 10 artists>)"
      ]
     },
     "execution_count": 37,
     "metadata": {},
     "output_type": "execute_result"
    },
    {
     "data": {
      "image/png": "[encoded data removed]",
      "text/plain": [
       "<Figure size 432x288 with 1 Axes>"
      ]
     },
     "metadata": {
      "needs_background": "light"
     },
     "output_type": "display_data"
    }
   ],
   "source": [
    "plt.hist(s_[:,2], density=True)"
   ]
  },
  {
   "cell_type": "code",
   "execution_count": 38,
   "id": "67f44790",
   "metadata": {
    "ExecuteTime": {
     "end_time": "2023-09-11T12:12:58.844918Z",
     "start_time": "2023-09-11T12:12:58.744212Z"
    }
   },
   "outputs": [
    {
     "data": {
      "text/plain": [
       "(array([ 8.67916103, 27.81333447, 29.7642698 , 28.76379014, 28.3135743 ,\n",
       "        29.48913789, 28.61371819, 29.26402997, 29.33906594, 10.07983255]),\n",
       " array([-0.02017288, -0.0161748 , -0.01217671, -0.00817863, -0.00418055,\n",
       "        -0.00018247,  0.00381562,  0.0078137 ,  0.01181178,  0.01580986,\n",
       "         0.01980795]),\n",
       " <BarContainer object of 10 artists>)"
      ]
     },
     "execution_count": 38,
     "metadata": {},
     "output_type": "execute_result"
    },
    {
     "data": {
      "image/png": "[encoded data removed]",
      "text/plain": [
       "<Figure size 432x288 with 1 Axes>"
      ]
     },
     "metadata": {
      "needs_background": "light"
     },
     "output_type": "display_data"
    }
   ],
   "source": [
    "plt.hist(s_[:,3], density=True)"
   ]
  },
  {
   "cell_type": "code",
   "execution_count": 39,
   "id": "de0d6497",
   "metadata": {
    "ExecuteTime": {
     "end_time": "2023-09-11T12:12:59.891972Z",
     "start_time": "2023-09-11T12:12:59.634299Z"
    }
   },
   "outputs": [
    {
     "data": {
      "text/plain": [
       "Text(0.5, 1.0, 'estimate component 4')"
      ]
     },
     "execution_count": 39,
     "metadata": {},
     "output_type": "execute_result"
    },
    {
     "data": {
      "image/png": "[encoded data removed]",
      "text/plain": [
       "<Figure size 864x288 with 4 Axes>"
      ]
     },
     "metadata": {
      "needs_background": "light"
     },
     "output_type": "display_data"
    }
   ],
   "source": [
    "fig, (ax1, ax2, ax3, ax4) = plt.subplots(1, 4, figsize=(12, 4))\n",
    "\n",
    "# Plot data on each subplot\n",
    "ax1.hist(s_[:,0], density=True)\n",
    "ax1.set_title('estimate component 1')\n",
    "\n",
    "ax2.hist(s_[:,1], density=True)\n",
    "ax2.set_title('estimate component 2')\n",
    "\n",
    "ax3.hist(s_[:,2], density=True)\n",
    "ax3.set_title('estimate component 3')\n",
    "\n",
    "ax4.hist(s_[:,3], density=True)\n",
    "ax4.set_title('estimate component 4')"
   ]
  },
  {
   "cell_type": "code",
   "execution_count": 40,
   "id": "1a94bc27",
   "metadata": {
    "ExecuteTime": {
     "end_time": "2023-09-11T12:13:03.138781Z",
     "start_time": "2023-09-11T12:13:03.029597Z"
    }
   },
   "outputs": [
    {
     "data": {
      "text/plain": [
       "(array([1.91420664e-02, 3.82841328e-02, 4.78551659e-02, 1.24423431e-01,\n",
       "        3.34986162e-01, 9.09248153e-01, 2.77559962e+00, 8.25023061e+00,\n",
       "        2.31714713e+01, 6.00390912e+01]),\n",
       " array([-0.09392755, -0.08347936, -0.07303116, -0.06258297, -0.05213478,\n",
       "        -0.04168658, -0.03123839, -0.0207902 , -0.01034201,  0.00010619,\n",
       "         0.01055438]),\n",
       " <BarContainer object of 10 artists>)"
      ]
     },
     "execution_count": 40,
     "metadata": {},
     "output_type": "execute_result"
    },
    {
     "data": {
      "image/png": "[encoded data removed]",
      "text/plain": [
       "<Figure size 432x288 with 1 Axes>"
      ]
     },
     "metadata": {
      "needs_background": "light"
     },
     "output_type": "display_data"
    }
   ],
   "source": [
    "np.random.seed(0)\n",
    "ica=FastICA(n_components=6, max_iter=1000)\n",
    "s_=ica.fit_transform(x)\n",
    "plt.hist(s_[:,0], density=True)"
   ]
  },
  {
   "cell_type": "code",
   "execution_count": 41,
   "id": "6428f797",
   "metadata": {
    "ExecuteTime": {
     "end_time": "2023-09-11T12:13:04.143374Z",
     "start_time": "2023-09-11T12:13:03.673906Z"
    }
   },
   "outputs": [
    {
     "data": {
      "text/plain": [
       "Text(0.5, 1.0, 'estimate component 6')"
      ]
     },
     "execution_count": 41,
     "metadata": {},
     "output_type": "execute_result"
    },
    {
     "data": {
      "image/png": "[encoded data removed]",
      "text/plain": [
       "<Figure size 864x288 with 6 Axes>"
      ]
     },
     "metadata": {
      "needs_background": "light"
     },
     "output_type": "display_data"
    }
   ],
   "source": [
    "fig, (ax1, ax2, ax3, ax4, ax5, ax6) = plt.subplots(1, 6, figsize=(12, 4))\n",
    "\n",
    "# Plot data on each subplot\n",
    "ax1.hist(s_[:,0], density=True)\n",
    "ax1.set_title('estimate component 1')\n",
    "\n",
    "ax2.hist(s_[:,1], density=True)\n",
    "ax2.set_title('estimate component 2')\n",
    "\n",
    "ax3.hist(s_[:,2], density=True)\n",
    "ax3.set_title('estimate component 3')\n",
    "\n",
    "ax4.hist(s_[:,3], density=True)\n",
    "ax4.set_title('estimate component 4')\n",
    "\n",
    "ax5.hist(s_[:,4], density=True)\n",
    "ax5.set_title('estimate component 5')\n",
    "\n",
    "ax6.hist(s_[:,5], density=True)\n",
    "ax6.set_title('estimate component 6')"
   ]
  },
  {
   "cell_type": "code",
   "execution_count": null,
   "id": "3d472410",
   "metadata": {},
   "outputs": [],
   "source": []
  }
 ],
 "metadata": {
  "kernelspec": {
   "display_name": "Python 3 (ipykernel)",
   "language": "python",
   "name": "python3"
  },
  "language_info": {
   "codemirror_mode": {
    "name": "ipython",
    "version": 3
   },
   "file_extension": ".py",
   "mimetype": "text/x-python",
   "name": "python",
   "nbconvert_exporter": "python",
   "pygments_lexer": "ipython3",
   "version": "3.9.12"
  },
  "latex_envs": {
   "LaTeX_envs_menu_present": true,
   "autoclose": false,
   "autocomplete": true,
   "bibliofile": "biblio.bib",
   "cite_by": "apalike",
   "current_citInitial": 1,
   "eqLabelWithNumbers": true,
   "eqNumInitial": 1,
   "hotkeys": {
    "equation": "Ctrl-E",
    "itemize": "Ctrl-I"
   },
   "labels_anchors": false,
   "latex_user_defs": false,
   "report_style_numbering": false,
   "user_envs_cfg": false
  },
  "toc": {
   "base_numbering": 1,
   "nav_menu": {},
   "number_sections": true,
   "sideBar": true,
   "skip_h1_title": false,
   "title_cell": "Table of Contents",
   "title_sidebar": "Contents",
   "toc_cell": false,
   "toc_position": {},
   "toc_section_display": true,
   "toc_window_display": false
  }
 },
 "nbformat": 4,
 "nbformat_minor": 5
}
